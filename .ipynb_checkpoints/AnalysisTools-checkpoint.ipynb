{
 "cells": [
  {
   "cell_type": "markdown",
   "metadata": {},
   "source": [
    "### All imports"
   ]
  },
  {
   "cell_type": "code",
   "execution_count": null,
   "metadata": {},
   "outputs": [],
   "source": [
    "import numpy as np # linear algebra\n",
    "import pandas as pd # data processing\n",
    "import seaborn as sns #for data visualization\n",
    "import matplotlib.pyplot as plt  #for data visualization\n",
    "import warnings\n",
    "\n",
    "from pathlib import Path\n"
   ]
  },
  {
   "cell_type": "code",
   "execution_count": null,
   "metadata": {},
   "outputs": [],
   "source": [
    "from sklearn.preprocessing import StandardScaler,MinMaxScaler,RobustScaler,Normalizer\n",
    "from sklearn.preprocessing import StandardScaler,OneHotEncoder, MinMaxScaler\n",
    "from sklearn.feature_extraction import DictVectorizer\n",
    "from sklearn.impute import SimpleImputer,KNNImputer\n",
    "from sklearn.compose import ColumnTransformer\n",
    "from sklearn.multiclass import OneVsRestClassifier\n",
    "from sklearn.linear_model import LogisticRegression\n",
    "from sklearn.svm import SVC, LinearSVC\n",
    "from sklearn.pipeline import Pipeline, make_pipeline\n",
    "from sklearn import set_config\n",
    "from sklearn.model_selection import train_test_split,GridSearchCV,StratifiedKFold\n",
    "from sklearn.metrics import roc_curve, roc_auc_score, accuracy_score\n",
    "from sklearn.ensemble import RandomForestClassifier, VotingClassifier\n",
    "from sklearn.decomposition import PCA\n",
    "from sklearn.tree import DecisionTreeClassifier\n",
    "import xgboost as xgb"
   ]
  },
  {
   "cell_type": "markdown",
   "metadata": {},
   "source": [
    "**Settings**"
   ]
  },
  {
   "cell_type": "code",
   "execution_count": null,
   "metadata": {},
   "outputs": [],
   "source": [
    "plt.style.use('bmh')\n",
    "pd.set_option(\"display.max_columns\", 100)\n",
    "warnings.filterwarnings('ignore')\n",
    "set_config(display='diagram')"
   ]
  },
  {
   "cell_type": "markdown",
   "metadata": {},
   "source": [
    "**Default Values**"
   ]
  },
  {
   "cell_type": "code",
   "execution_count": null,
   "metadata": {},
   "outputs": [],
   "source": [
    "RANDOM_STATE = 27\n",
    "SEED = 27"
   ]
  },
  {
   "cell_type": "markdown",
   "metadata": {},
   "source": [
    "### Preprocessing Functions"
   ]
  },
  {
   "cell_type": "code",
   "execution_count": 1,
   "metadata": {},
   "outputs": [],
   "source": [
    "def nullInfo(data):\n",
    "    columns = data.columns.tolist() # find all column names\n",
    "    col_datatypes  = (data.dtypes).to_list() # find column data types\n",
    "    col_sums = (data.isnull().sum()).to_list() # find all the null values in column\n",
    "    col_per = (data.isnull().mean().round(5)*100).to_list() # find percentage of null values in the column\n",
    "    col_nquniue = data.nunique().to_list() # find the unique values in each columns\n",
    "    \n",
    "    \n",
    "    # Create the final table\n",
    "    nullDf = pd.DataFrame(\n",
    "        {'colName': columns,\n",
    "         'dataType': col_datatypes,\n",
    "         'uniqueEntries':col_nquniue,\n",
    "         'nullEntries': col_sums,\n",
    "         'nullPercentage': col_per\n",
    "        })\n",
    "    \n",
    "    return nullDf"
   ]
  },
  {
   "cell_type": "code",
   "execution_count": 2,
   "metadata": {},
   "outputs": [],
   "source": [
    "def nullInfoCompare(train,test):\n",
    "    columns = train.columns.tolist() # find all column names\n",
    "    col_datatypes  = (train.dtypes).to_list() # find column data types\n",
    "    \n",
    "    col_per = (train.isnull().mean().round(5)*100).to_list() # find percentage of null values in the column in taining data\n",
    "    col_per_test = (test.isnull().mean().round(5)*100).to_list() # find percentage of null values in the column in test data\n",
    "    \n",
    "    col_nquniue = train.nunique().to_list() # find the unique values in each columns in taining data\n",
    "    col_nquniue_test = test.nunique().to_list() # find the unique values in each columns in test data\n",
    "     \n",
    "    # Create the final table\n",
    "    nullDf = pd.DataFrame(\n",
    "        {'colName': columns,\n",
    "         'dataType': col_datatypes,\n",
    "         'uniqueEntriesTrain':col_nquniue,         \n",
    "         'uniqueEntriesTest':col_nquniue_test,\n",
    "         'nullPercentageTrain': col_per,\n",
    "         'nullPercentageTest': col_per_test\n",
    "        })\n",
    "    \n",
    "    return nullDf"
   ]
  },
  {
   "cell_type": "code",
   "execution_count": 3,
   "metadata": {},
   "outputs": [],
   "source": [
    "def dropColumns(data,colArr=[],per=101):\n",
    "    columns = data.columns.tolist()\n",
    "    col_per = (data.isnull().mean().round(5)*100).to_list()\n",
    "    additionalCols = [columns[i] for i,val in enumerate(col_per) if val > per]\n",
    "    \n",
    "    dropCols = list(set( colArr + additionalCols )) \n",
    "    \n",
    "    data.drop(dropCols,inplace=True)\n",
    "    \n"
   ]
  },
  {
   "cell_type": "code",
   "execution_count": null,
   "metadata": {},
   "outputs": [],
   "source": []
  }
 ],
 "metadata": {
  "kernelspec": {
   "display_name": "Python 3",
   "language": "python",
   "name": "python3"
  },
  "language_info": {
   "codemirror_mode": {
    "name": "ipython",
    "version": 3
   },
   "file_extension": ".py",
   "mimetype": "text/x-python",
   "name": "python",
   "nbconvert_exporter": "python",
   "pygments_lexer": "ipython3",
   "version": "3.8.5"
  }
 },
 "nbformat": 4,
 "nbformat_minor": 4
}
